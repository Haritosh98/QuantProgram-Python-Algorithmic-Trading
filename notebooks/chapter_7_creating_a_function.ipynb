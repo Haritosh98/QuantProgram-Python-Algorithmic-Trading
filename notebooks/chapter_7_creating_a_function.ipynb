{
 "cells": [
  {
   "cell_type": "markdown",
   "metadata": {},
   "source": [
    "# Creating a function"
   ]
  },
  {
   "cell_type": "markdown",
   "metadata": {},
   "source": [
    "# 0. Libraries"
   ]
  },
  {
   "cell_type": "code",
   "execution_count": 1,
   "metadata": {},
   "outputs": [],
   "source": [
    "import yfinance as yf\n",
    "import seaborn as sns\n",
    "import pandas as pd\n",
    "import numpy as np\n",
    "\n",
    "%matplotlib inline\n",
    "import matplotlib.pyplot as plt\n",
    "sns.set(style=\"darkgrid\")"
   ]
  },
  {
   "cell_type": "markdown",
   "metadata": {},
   "source": [
    "# 1. Creating a function\n",
    "\n",
    "This function will do everything what we did before"
   ]
  },
  {
   "cell_type": "code",
   "execution_count": 4,
   "metadata": {},
   "outputs": [],
   "source": [
    "def test_strategy(stock, start, end, SMA):\n",
    "    df = yf.download(stock, start = start, end = end)\n",
    "    data = df['Close'].to_frame()\n",
    "    data['returns'] = np.log(data['Close'].div(data['Close'].shift(1)))\n",
    "    data['SMA_S'] = data['Close'].rolling(int(SMA[0])).mean()\n",
    "    data['SMA_L'] = data['Close'].rolling(int(SMA[1])).mean()\n",
    "    data.dropna(inplace = True)\n",
    "    \n",
    "    data['position'] = np.where(data['SMA_S'] > data['SMA_L'], 1, -1)\n",
    "    data['strategy'] = data['returns'] * data['position'].shift(1)\n",
    "    data.dropna(inplace = True)\n",
    "    \n",
    "    # absolute performance of the strategy (if 1 dollar is invested, what happens)\n",
    "    ret = np.exp(data['strategy'].sum())\n",
    "    std = data['strategy'].std() * np.sqrt(252)\n",
    "    \n",
    "    return ret, std"
   ]
  },
  {
   "cell_type": "code",
   "execution_count": 6,
   "metadata": {},
   "outputs": [
    {
     "name": "stdout",
     "output_type": "stream",
     "text": [
      "[*********************100%%**********************]  1 of 1 completed\n"
     ]
    },
    {
     "data": {
      "text/plain": [
       "(0.39097954932295986, 0.2906766831415829)"
      ]
     },
     "execution_count": 6,
     "metadata": {},
     "output_type": "execute_result"
    }
   ],
   "source": [
    "# now we use the function, lets try with microsoft\n",
    "test_strategy('MSFT', '2000-01-01', '2020-01-01', (50, 200))"
   ]
  },
  {
   "cell_type": "markdown",
   "metadata": {},
   "source": [
    "We see that this is a very poor return for the SMA since $1 became $0.3908 (ret) and the standard deviation is 29%"
   ]
  },
  {
   "cell_type": "code",
   "execution_count": 7,
   "metadata": {},
   "outputs": [
    {
     "name": "stdout",
     "output_type": "stream",
     "text": [
      "[*********************100%%**********************]  1 of 1 completed\n"
     ]
    },
    {
     "data": {
      "text/plain": [
       "(16.540320732436786, 0.36699682903803943)"
      ]
     },
     "execution_count": 7,
     "metadata": {},
     "output_type": "execute_result"
    }
   ],
   "source": [
    "# now try for apple:\n",
    "test_strategy('AAPL', '2000-01-01', '2020-01-01', (50, 200))"
   ]
  },
  {
   "cell_type": "markdown",
   "metadata": {},
   "source": [
    "We see this is much better - $1 became $16.5 (ret) with a standard deviation of 36.7%"
   ]
  },
  {
   "cell_type": "code",
   "execution_count": 8,
   "metadata": {},
   "outputs": [
    {
     "name": "stdout",
     "output_type": "stream",
     "text": [
      "[*********************100%%**********************]  1 of 1 completed\n"
     ]
    },
    {
     "data": {
      "text/plain": [
       "(1.3908153866370587, 0.4956456904999671)"
      ]
     },
     "execution_count": 8,
     "metadata": {},
     "output_type": "execute_result"
    }
   ],
   "source": [
    "# try for tesla\n",
    "test_strategy('TSLA', '2000-01-01', '2020-01-01', (50, 200))"
   ]
  },
  {
   "cell_type": "markdown",
   "metadata": {},
   "source": [
    "This is not good since $1 only became $1.39 with a standard deviation of 49.6%"
   ]
  },
  {
   "cell_type": "code",
   "execution_count": 9,
   "metadata": {},
   "outputs": [
    {
     "name": "stdout",
     "output_type": "stream",
     "text": [
      "[*********************100%%**********************]  1 of 1 completed\n"
     ]
    },
    {
     "data": {
      "text/plain": [
       "(4.766371508372407, 0.18787947185958592)"
      ]
     },
     "execution_count": 9,
     "metadata": {},
     "output_type": "execute_result"
    }
   ],
   "source": [
    "# lets check for SPY\n",
    "test_strategy('SPY', '2000-01-01', '2020-01-01', (50, 200))"
   ]
  },
  {
   "cell_type": "markdown",
   "metadata": {},
   "source": [
    "$1 became $4.77 with a std of 18.8%"
   ]
  }
 ],
 "metadata": {
  "kernelspec": {
   "display_name": ".env05pytrad",
   "language": "python",
   "name": "python3"
  },
  "language_info": {
   "codemirror_mode": {
    "name": "ipython",
    "version": 3
   },
   "file_extension": ".py",
   "mimetype": "text/x-python",
   "name": "python",
   "nbconvert_exporter": "python",
   "pygments_lexer": "ipython3",
   "version": "3.11.1"
  }
 },
 "nbformat": 4,
 "nbformat_minor": 2
}
