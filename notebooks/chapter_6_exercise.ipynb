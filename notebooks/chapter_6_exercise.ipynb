{
 "cells": [
  {
   "cell_type": "markdown",
   "metadata": {},
   "source": [
    "# Task 1: Strategies\n",
    "\n",
    "### 1. Find the best SMA for the top 5 stocks\n",
    "### 2. Create a bias strategy (e.g. that only looks at short or long strategies)\n",
    "### 3. Compare the drawdowns\n",
    "### 4. Pick the best 3 stocks for your portfolio"
   ]
  },
  {
   "cell_type": "markdown",
   "metadata": {},
   "source": []
  }
 ],
 "metadata": {
  "language_info": {
   "name": "python"
  }
 },
 "nbformat": 4,
 "nbformat_minor": 2
}
