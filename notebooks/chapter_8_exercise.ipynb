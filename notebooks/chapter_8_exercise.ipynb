{
 "cells": [
  {
   "cell_type": "markdown",
   "metadata": {},
   "source": [
    "# Task 1: Backtesting\n",
    "\n",
    "### 1. Watch this video: https://www.youtube.com/watch?v=Wodr4rCWzPw about Stan Weinstein's Trading Strategy\n",
    "### 2. Create a strategy in Python\n",
    "### 3. Backtest this strategy\n",
    "### 4. Create a class and then save and re-use that class for different stocks\n"
   ]
  }
 ],
 "metadata": {
  "language_info": {
   "name": "python"
  }
 },
 "nbformat": 4,
 "nbformat_minor": 2
}
