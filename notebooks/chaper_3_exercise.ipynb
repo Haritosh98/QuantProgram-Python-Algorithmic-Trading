{
 "cells": [
  {
   "cell_type": "markdown",
   "metadata": {},
   "source": [
    "# Task 2: simple moving average (SMA)\n",
    "\n",
    "### 1. Take 5 stocks that you picked and plot the moving averages"
   ]
  },
  {
   "cell_type": "markdown",
   "metadata": {},
   "source": []
  }
 ],
 "metadata": {
  "language_info": {
   "name": "python"
  }
 },
 "nbformat": 4,
 "nbformat_minor": 2
}
