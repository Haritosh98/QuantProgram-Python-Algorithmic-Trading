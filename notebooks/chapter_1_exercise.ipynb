{
 "cells": [
  {
   "cell_type": "markdown",
   "metadata": {},
   "source": [
    "# Task 1: risk, reward, covariance and correlation\n",
    "\n",
    "### 1. Download 20 random stocks fro yahoo finance\n",
    "### 2. Calculate the risk (standard deviation) and the reward (mean) potentials of the stocks\n",
    "### 3. Compare the covariance and correlations of the stocks\n",
    "### 4. Determine the best 5 stocks to invest in long term"
   ]
  },
  {
   "cell_type": "markdown",
   "metadata": {},
   "source": []
  }
 ],
 "metadata": {
  "language_info": {
   "name": "python"
  }
 },
 "nbformat": 4,
 "nbformat_minor": 2
}
